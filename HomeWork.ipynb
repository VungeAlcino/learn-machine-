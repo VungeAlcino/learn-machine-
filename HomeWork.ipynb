{
 "cells": [
  {
   "cell_type": "markdown",
   "id": "c2c10129",
   "metadata": {},
   "source": [
    "# 0.Описание задачи\n",
    "### Сердечно-сосудистые заболевания являются причиной смерти № 1 во всем мире, ежегодно унося, по оценкам, 17.9 миллиона жизней, что составляет 31% всех смертей во всем мире. На основании данного датасета можно предсказать вероятность сердечных заболеваний у пациента на основе различных входных параметров.\n",
    "### Данная задача является бинарной задачей классификации"
   ]
  },
  {
   "cell_type": "code",
   "execution_count": 1,
   "id": "d9c3e4b6",
   "metadata": {},
   "outputs": [],
   "source": [
    "import numpy as np\n",
    "import matplotlib.pyplot as plt\n",
    "import pandas as pd\n",
    "import seaborn as sns\n",
    "import sklearn\n",
    "%matplotlib inline"
   ]
  },
  {
   "cell_type": "markdown",
   "id": "ecacd200",
   "metadata": {},
   "source": [
    "# 1. Чтение данных"
   ]
  },
  {
   "cell_type": "code",
   "execution_count": 2,
   "id": "08aceb75",
   "metadata": {},
   "outputs": [],
   "source": [
    "url = \"https://raw.githubusercontent.com/DariaGusarova8192/Machine-Learning-Course/main/heart.csv\"\n",
    "data_raw = pd.read_csv(url)"
   ]
  },
  {
   "cell_type": "code",
   "execution_count": 3,
   "id": "d6fb882c",
   "metadata": {},
   "outputs": [
    {
     "data": {
      "text/plain": [
       "pandas.core.frame.DataFrame"
      ]
     },
     "execution_count": 3,
     "metadata": {},
     "output_type": "execute_result"
    }
   ],
   "source": [
    "type(data_raw)"
   ]
  },
  {
   "cell_type": "code",
   "execution_count": 4,
   "id": "ce3b771b",
   "metadata": {},
   "outputs": [
    {
     "data": {
      "text/plain": [
       "(1019, 12)"
      ]
     },
     "execution_count": 4,
     "metadata": {},
     "output_type": "execute_result"
    }
   ],
   "source": [
    "data_raw.shape"
   ]
  },
  {
   "cell_type": "code",
   "execution_count": 5,
   "id": "de46832e",
   "metadata": {
    "scrolled": true
   },
   "outputs": [
    {
     "data": {
      "text/html": [
       "<div>\n",
       "<style scoped>\n",
       "    .dataframe tbody tr th:only-of-type {\n",
       "        vertical-align: middle;\n",
       "    }\n",
       "\n",
       "    .dataframe tbody tr th {\n",
       "        vertical-align: top;\n",
       "    }\n",
       "\n",
       "    .dataframe thead th {\n",
       "        text-align: right;\n",
       "    }\n",
       "</style>\n",
       "<table border=\"1\" class=\"dataframe\">\n",
       "  <thead>\n",
       "    <tr style=\"text-align: right;\">\n",
       "      <th></th>\n",
       "      <th>Age</th>\n",
       "      <th>Sex</th>\n",
       "      <th>ChestPainType</th>\n",
       "      <th>RestingBP</th>\n",
       "      <th>Cholesterol</th>\n",
       "      <th>FastingBS</th>\n",
       "      <th>RestingECG</th>\n",
       "      <th>MaxHR</th>\n",
       "      <th>ExerciseAngina</th>\n",
       "      <th>Oldpeak</th>\n",
       "      <th>ST_Slope</th>\n",
       "      <th>HeartDisease</th>\n",
       "    </tr>\n",
       "  </thead>\n",
       "  <tbody>\n",
       "    <tr>\n",
       "      <th>0</th>\n",
       "      <td>40.0</td>\n",
       "      <td>M</td>\n",
       "      <td>ATA</td>\n",
       "      <td>140.0</td>\n",
       "      <td>289.0</td>\n",
       "      <td>0.0</td>\n",
       "      <td>Normal</td>\n",
       "      <td>172</td>\n",
       "      <td>N</td>\n",
       "      <td>0.0</td>\n",
       "      <td>Up</td>\n",
       "      <td>0</td>\n",
       "    </tr>\n",
       "    <tr>\n",
       "      <th>1</th>\n",
       "      <td>49.0</td>\n",
       "      <td>F</td>\n",
       "      <td>NAP</td>\n",
       "      <td>160.0</td>\n",
       "      <td>180.0</td>\n",
       "      <td>0.0</td>\n",
       "      <td>Normal</td>\n",
       "      <td>156</td>\n",
       "      <td>N</td>\n",
       "      <td>1.0</td>\n",
       "      <td>Flat</td>\n",
       "      <td>1</td>\n",
       "    </tr>\n",
       "    <tr>\n",
       "      <th>2</th>\n",
       "      <td>37.0</td>\n",
       "      <td>M</td>\n",
       "      <td>ATA</td>\n",
       "      <td>130.0</td>\n",
       "      <td>283.0</td>\n",
       "      <td>0.0</td>\n",
       "      <td>ST</td>\n",
       "      <td>98</td>\n",
       "      <td>N</td>\n",
       "      <td>0.0</td>\n",
       "      <td>Up</td>\n",
       "      <td>0</td>\n",
       "    </tr>\n",
       "    <tr>\n",
       "      <th>3</th>\n",
       "      <td>48.0</td>\n",
       "      <td>F</td>\n",
       "      <td>ASY</td>\n",
       "      <td>138.0</td>\n",
       "      <td>214.0</td>\n",
       "      <td>0.0</td>\n",
       "      <td>Normal</td>\n",
       "      <td>108</td>\n",
       "      <td>Y</td>\n",
       "      <td>1.5</td>\n",
       "      <td>Flat</td>\n",
       "      <td>1</td>\n",
       "    </tr>\n",
       "    <tr>\n",
       "      <th>4</th>\n",
       "      <td>54.0</td>\n",
       "      <td>M</td>\n",
       "      <td>NAP</td>\n",
       "      <td>150.0</td>\n",
       "      <td>195.0</td>\n",
       "      <td>0.0</td>\n",
       "      <td>Normal</td>\n",
       "      <td>122</td>\n",
       "      <td>N</td>\n",
       "      <td>0.0</td>\n",
       "      <td>Up</td>\n",
       "      <td>0</td>\n",
       "    </tr>\n",
       "    <tr>\n",
       "      <th>...</th>\n",
       "      <td>...</td>\n",
       "      <td>...</td>\n",
       "      <td>...</td>\n",
       "      <td>...</td>\n",
       "      <td>...</td>\n",
       "      <td>...</td>\n",
       "      <td>...</td>\n",
       "      <td>...</td>\n",
       "      <td>...</td>\n",
       "      <td>...</td>\n",
       "      <td>...</td>\n",
       "      <td>...</td>\n",
       "    </tr>\n",
       "    <tr>\n",
       "      <th>1014</th>\n",
       "      <td>49.0</td>\n",
       "      <td>M</td>\n",
       "      <td>TA</td>\n",
       "      <td>110.0</td>\n",
       "      <td>264.0</td>\n",
       "      <td>0.0</td>\n",
       "      <td>Normal</td>\n",
       "      <td>132</td>\n",
       "      <td>N</td>\n",
       "      <td>1.2</td>\n",
       "      <td>Flat</td>\n",
       "      <td>1</td>\n",
       "    </tr>\n",
       "    <tr>\n",
       "      <th>1015</th>\n",
       "      <td>68.0</td>\n",
       "      <td>M</td>\n",
       "      <td>ASY</td>\n",
       "      <td>149.0</td>\n",
       "      <td>193.0</td>\n",
       "      <td>1.0</td>\n",
       "      <td>Normal</td>\n",
       "      <td>141</td>\n",
       "      <td>N</td>\n",
       "      <td>3.4</td>\n",
       "      <td>Flat</td>\n",
       "      <td>1</td>\n",
       "    </tr>\n",
       "    <tr>\n",
       "      <th>1016</th>\n",
       "      <td>57.0</td>\n",
       "      <td>F</td>\n",
       "      <td>ASY</td>\n",
       "      <td>130.0</td>\n",
       "      <td>131.0</td>\n",
       "      <td>0.0</td>\n",
       "      <td>Normal</td>\n",
       "      <td>115</td>\n",
       "      <td>Y</td>\n",
       "      <td>1.2</td>\n",
       "      <td>Flat</td>\n",
       "      <td>1</td>\n",
       "    </tr>\n",
       "    <tr>\n",
       "      <th>1017</th>\n",
       "      <td>64.0</td>\n",
       "      <td>F</td>\n",
       "      <td>ATA</td>\n",
       "      <td>130.0</td>\n",
       "      <td>236.0</td>\n",
       "      <td>0.0</td>\n",
       "      <td>LVH</td>\n",
       "      <td>174</td>\n",
       "      <td>N</td>\n",
       "      <td>0.0</td>\n",
       "      <td>Flat</td>\n",
       "      <td>1</td>\n",
       "    </tr>\n",
       "    <tr>\n",
       "      <th>1018</th>\n",
       "      <td>38.0</td>\n",
       "      <td>M</td>\n",
       "      <td>NAP</td>\n",
       "      <td>130.0</td>\n",
       "      <td>175.0</td>\n",
       "      <td>0.0</td>\n",
       "      <td>Normal</td>\n",
       "      <td>173</td>\n",
       "      <td>N</td>\n",
       "      <td>0.0</td>\n",
       "      <td>Up</td>\n",
       "      <td>0</td>\n",
       "    </tr>\n",
       "  </tbody>\n",
       "</table>\n",
       "<p>1019 rows × 12 columns</p>\n",
       "</div>"
      ],
      "text/plain": [
       "       Age Sex ChestPainType  RestingBP  Cholesterol  FastingBS RestingECG  \\\n",
       "0     40.0   M           ATA      140.0        289.0        0.0     Normal   \n",
       "1     49.0   F           NAP      160.0        180.0        0.0     Normal   \n",
       "2     37.0   M           ATA      130.0        283.0        0.0         ST   \n",
       "3     48.0   F           ASY      138.0        214.0        0.0     Normal   \n",
       "4     54.0   M           NAP      150.0        195.0        0.0     Normal   \n",
       "...    ...  ..           ...        ...          ...        ...        ...   \n",
       "1014  49.0   M            TA      110.0        264.0        0.0     Normal   \n",
       "1015  68.0   M           ASY      149.0        193.0        1.0     Normal   \n",
       "1016  57.0   F           ASY      130.0        131.0        0.0     Normal   \n",
       "1017  64.0   F           ATA      130.0        236.0        0.0        LVH   \n",
       "1018  38.0   M           NAP      130.0        175.0        0.0     Normal   \n",
       "\n",
       "      MaxHR ExerciseAngina  Oldpeak ST_Slope  HeartDisease  \n",
       "0       172              N      0.0       Up             0  \n",
       "1       156              N      1.0     Flat             1  \n",
       "2        98              N      0.0       Up             0  \n",
       "3       108              Y      1.5     Flat             1  \n",
       "4       122              N      0.0       Up             0  \n",
       "...     ...            ...      ...      ...           ...  \n",
       "1014    132              N      1.2     Flat             1  \n",
       "1015    141              N      3.4     Flat             1  \n",
       "1016    115              Y      1.2     Flat             1  \n",
       "1017    174              N      0.0     Flat             1  \n",
       "1018    173              N      0.0       Up             0  \n",
       "\n",
       "[1019 rows x 12 columns]"
      ]
     },
     "execution_count": 5,
     "metadata": {},
     "output_type": "execute_result"
    }
   ],
   "source": [
    "data_raw"
   ]
  },
  {
   "cell_type": "markdown",
   "id": "44c8f7ba",
   "metadata": {},
   "source": [
    "### Количество пациентов N = 1019, количество признаков d = 12. Количество классов - 2 (присутствует у пациента сердечная недостаточность или нет)\n",
    "\n",
    "### Информация о признаках:\n",
    "Age: возраст пациента (Сколько лет)\n",
    "\n",
    "Sex\t: пол пациента (M - мужчина, F - женщина)\n",
    "\n",
    "ChestPainType: тип боли в груди (TA: Типичная стенокардия, ATA: Атипичная стенокардия, NAP: Боль, вызванная не стенокардией, ASY: Бессимптомная)\n",
    "\n",
    "RestingBP: артериальное давление в состоянии покоя (мм рт. ст.)\n",
    "\n",
    "Cholesterol: холестерин в сыворотке крови (мм/дл)\n",
    "\n",
    "FastingBS: уровень сахара в крови натощак (1, если FastingBS > 120 мг/дл, 0 в противном случае)\n",
    "\n",
    "RestingECG: результаты электрокардиограммы в состоянии покоя (Normal: Нормальный, ST: с аномалией волны ST-T (инверсии волны T и/или повышение или понижение уровня ST > 0,05 мВ), LVH: с вероятной или определенной гипертрофией левого желудочка по критериям Эстеса]\n",
    "\n",
    "MaxHR: достигнутая максимальная частота сердечных сокращений (Числовое значение от 60 до 202)\n",
    "\n",
    "ExerciseAngina: стенокардия, вызванная физической нагрузкой (Y: Да, N: Нет)\n",
    "\n",
    "Oldpeak: ST (Числовое значение, измеренное в углублении)\n",
    "\n",
    "ST_Slope: Оценка наклона сегмента (Up: наклонный вверх, Flat: плоский, Down: наклонный вниз)\n",
    "\n",
    "HeartDisease: выходной класс (1: болезнь сердца, 0: Норма)\n",
    "### Признаки Age, RestingBP, Cholesterol, MaxHR, Oldpeak - числовые; признаки Sex, ExerciseAngina, HeartDisease, FastingBS - бинарные; признаки ChestPainType, RestingECG, ST_Slope - категориальные признаки\n"
   ]
  },
  {
   "cell_type": "markdown",
   "id": "9764c7a2",
   "metadata": {},
   "source": [
    "Присвоим категориальный тип столбцам, содержащим категориальные и бинарные(для корректного заполнения пропусков) типы:"
   ]
  },
  {
   "cell_type": "code",
   "execution_count": 6,
   "id": "ae22237a",
   "metadata": {},
   "outputs": [],
   "source": [
    "data_raw['ChestPainType'] = data_raw['ChestPainType'].astype('category')\n",
    "data_raw['RestingECG'] = data_raw['RestingECG'].astype('category')\n",
    "data_raw['ST_Slope'] = data_raw['ST_Slope'].astype('category')\n",
    "data_raw['Sex'] = data_raw['Sex'].astype('category')\n",
    "data_raw['ExerciseAngina'] = data_raw['ExerciseAngina'].astype('category')\n",
    "data_raw['HeartDisease'] = data_raw['HeartDisease'].astype('category')\n",
    "data_raw['FastingBS'] = data_raw['FastingBS'].astype('category')"
   ]
  },
  {
   "cell_type": "markdown",
   "id": "43a554b5",
   "metadata": {},
   "source": [
    "# 2. Визуализация данных, вычисление основных характеристик"
   ]
  },
  {
   "cell_type": "markdown",
   "id": "2ec3c9e0",
   "metadata": {},
   "source": [
    "### Основные статистические данные:"
   ]
  },
  {
   "cell_type": "code",
   "execution_count": 7,
   "id": "5fd73ba5",
   "metadata": {},
   "outputs": [
    {
     "data": {
      "text/html": [
       "<div>\n",
       "<style scoped>\n",
       "    .dataframe tbody tr th:only-of-type {\n",
       "        vertical-align: middle;\n",
       "    }\n",
       "\n",
       "    .dataframe tbody tr th {\n",
       "        vertical-align: top;\n",
       "    }\n",
       "\n",
       "    .dataframe thead th {\n",
       "        text-align: right;\n",
       "    }\n",
       "</style>\n",
       "<table border=\"1\" class=\"dataframe\">\n",
       "  <thead>\n",
       "    <tr style=\"text-align: right;\">\n",
       "      <th></th>\n",
       "      <th>Age</th>\n",
       "      <th>RestingBP</th>\n",
       "      <th>Cholesterol</th>\n",
       "      <th>MaxHR</th>\n",
       "      <th>Oldpeak</th>\n",
       "    </tr>\n",
       "  </thead>\n",
       "  <tbody>\n",
       "    <tr>\n",
       "      <th>count</th>\n",
       "      <td>1016.000000</td>\n",
       "      <td>1015.000000</td>\n",
       "      <td>1014.000000</td>\n",
       "      <td>1019.000000</td>\n",
       "      <td>1018.000000</td>\n",
       "    </tr>\n",
       "    <tr>\n",
       "      <th>mean</th>\n",
       "      <td>53.533465</td>\n",
       "      <td>132.497537</td>\n",
       "      <td>203.119329</td>\n",
       "      <td>138.341511</td>\n",
       "      <td>0.909234</td>\n",
       "    </tr>\n",
       "    <tr>\n",
       "      <th>std</th>\n",
       "      <td>9.453274</td>\n",
       "      <td>18.291248</td>\n",
       "      <td>106.031317</td>\n",
       "      <td>25.443785</td>\n",
       "      <td>1.084499</td>\n",
       "    </tr>\n",
       "    <tr>\n",
       "      <th>min</th>\n",
       "      <td>24.000000</td>\n",
       "      <td>0.000000</td>\n",
       "      <td>0.000000</td>\n",
       "      <td>60.000000</td>\n",
       "      <td>-2.600000</td>\n",
       "    </tr>\n",
       "    <tr>\n",
       "      <th>25%</th>\n",
       "      <td>47.000000</td>\n",
       "      <td>120.000000</td>\n",
       "      <td>179.250000</td>\n",
       "      <td>120.000000</td>\n",
       "      <td>0.000000</td>\n",
       "    </tr>\n",
       "    <tr>\n",
       "      <th>50%</th>\n",
       "      <td>54.000000</td>\n",
       "      <td>130.000000</td>\n",
       "      <td>224.000000</td>\n",
       "      <td>140.000000</td>\n",
       "      <td>0.600000</td>\n",
       "    </tr>\n",
       "    <tr>\n",
       "      <th>75%</th>\n",
       "      <td>60.000000</td>\n",
       "      <td>140.000000</td>\n",
       "      <td>268.000000</td>\n",
       "      <td>158.000000</td>\n",
       "      <td>1.500000</td>\n",
       "    </tr>\n",
       "    <tr>\n",
       "      <th>max</th>\n",
       "      <td>77.000000</td>\n",
       "      <td>200.000000</td>\n",
       "      <td>603.000000</td>\n",
       "      <td>202.000000</td>\n",
       "      <td>6.200000</td>\n",
       "    </tr>\n",
       "  </tbody>\n",
       "</table>\n",
       "</div>"
      ],
      "text/plain": [
       "               Age    RestingBP  Cholesterol        MaxHR      Oldpeak\n",
       "count  1016.000000  1015.000000  1014.000000  1019.000000  1018.000000\n",
       "mean     53.533465   132.497537   203.119329   138.341511     0.909234\n",
       "std       9.453274    18.291248   106.031317    25.443785     1.084499\n",
       "min      24.000000     0.000000     0.000000    60.000000    -2.600000\n",
       "25%      47.000000   120.000000   179.250000   120.000000     0.000000\n",
       "50%      54.000000   130.000000   224.000000   140.000000     0.600000\n",
       "75%      60.000000   140.000000   268.000000   158.000000     1.500000\n",
       "max      77.000000   200.000000   603.000000   202.000000     6.200000"
      ]
     },
     "execution_count": 7,
     "metadata": {},
     "output_type": "execute_result"
    }
   ],
   "source": [
    "data_raw.describe()"
   ]
  },
  {
   "cell_type": "code",
   "execution_count": 8,
   "id": "ffcf4519",
   "metadata": {},
   "outputs": [
    {
     "data": {
      "text/html": [
       "<div>\n",
       "<style scoped>\n",
       "    .dataframe tbody tr th:only-of-type {\n",
       "        vertical-align: middle;\n",
       "    }\n",
       "\n",
       "    .dataframe tbody tr th {\n",
       "        vertical-align: top;\n",
       "    }\n",
       "\n",
       "    .dataframe thead th {\n",
       "        text-align: right;\n",
       "    }\n",
       "</style>\n",
       "<table border=\"1\" class=\"dataframe\">\n",
       "  <thead>\n",
       "    <tr style=\"text-align: right;\">\n",
       "      <th></th>\n",
       "      <th>Sex</th>\n",
       "      <th>ChestPainType</th>\n",
       "      <th>FastingBS</th>\n",
       "      <th>RestingECG</th>\n",
       "      <th>ExerciseAngina</th>\n",
       "      <th>ST_Slope</th>\n",
       "      <th>HeartDisease</th>\n",
       "    </tr>\n",
       "  </thead>\n",
       "  <tbody>\n",
       "    <tr>\n",
       "      <th>count</th>\n",
       "      <td>1016</td>\n",
       "      <td>1016</td>\n",
       "      <td>1016.0</td>\n",
       "      <td>1015</td>\n",
       "      <td>1017</td>\n",
       "      <td>1018</td>\n",
       "      <td>1019</td>\n",
       "    </tr>\n",
       "    <tr>\n",
       "      <th>unique</th>\n",
       "      <td>2</td>\n",
       "      <td>4</td>\n",
       "      <td>2.0</td>\n",
       "      <td>3</td>\n",
       "      <td>2</td>\n",
       "      <td>3</td>\n",
       "      <td>2</td>\n",
       "    </tr>\n",
       "    <tr>\n",
       "      <th>top</th>\n",
       "      <td>M</td>\n",
       "      <td>ASY</td>\n",
       "      <td>0.0</td>\n",
       "      <td>Normal</td>\n",
       "      <td>N</td>\n",
       "      <td>Flat</td>\n",
       "      <td>1</td>\n",
       "    </tr>\n",
       "    <tr>\n",
       "      <th>freq</th>\n",
       "      <td>787</td>\n",
       "      <td>537</td>\n",
       "      <td>789.0</td>\n",
       "      <td>601</td>\n",
       "      <td>618</td>\n",
       "      <td>509</td>\n",
       "      <td>557</td>\n",
       "    </tr>\n",
       "  </tbody>\n",
       "</table>\n",
       "</div>"
      ],
      "text/plain": [
       "         Sex ChestPainType  FastingBS RestingECG ExerciseAngina ST_Slope  \\\n",
       "count   1016          1016     1016.0       1015           1017     1018   \n",
       "unique     2             4        2.0          3              2        3   \n",
       "top        M           ASY        0.0     Normal              N     Flat   \n",
       "freq     787           537      789.0        601            618      509   \n",
       "\n",
       "        HeartDisease  \n",
       "count           1019  \n",
       "unique             2  \n",
       "top                1  \n",
       "freq             557  "
      ]
     },
     "execution_count": 8,
     "metadata": {},
     "output_type": "execute_result"
    }
   ],
   "source": [
    "data_raw.describe(include = ['category'])"
   ]
  },
  {
   "cell_type": "code",
   "execution_count": 9,
   "id": "b29c2d02",
   "metadata": {},
   "outputs": [
    {
     "data": {
      "image/png": "[encoded data removed]",
      "text/plain": [
       "<Figure size 432x288 with 1 Axes>"
      ]
     },
     "metadata": {
      "needs_background": "light"
     },
     "output_type": "display_data"
    }
   ],
   "source": [
    "sns.countplot(x = 'HeartDisease', hue = 'ChestPainType', data = data_raw)\n",
    "pass"
   ]
  },
  {
   "cell_type": "code",
   "execution_count": 10,
   "id": "ea6fb434",
   "metadata": {},
   "outputs": [
    {
     "data": {
      "image/png": "[encoded data removed]",
      "text/plain": [
       "<Figure size 432x288 with 1 Axes>"
      ]
     },
     "metadata": {
      "needs_background": "light"
     },
     "output_type": "display_data"
    }
   ],
   "source": [
    "sns.countplot(x = 'HeartDisease', hue = 'RestingECG', data = data_raw)\n",
    "pass"
   ]
  },
  {
   "cell_type": "code",
   "execution_count": 107,
   "id": "620fee1d",
   "metadata": {},
   "outputs": [
    {
     "data": {
      "image/png": "[encoded data removed]",
      "text/plain": [
       "<Figure size 432x288 with 1 Axes>"
      ]
     },
     "metadata": {
      "needs_background": "light"
     },
     "output_type": "display_data"
    }
   ],
   "source": [
    "sns.countplot(x = 'HeartDisease', hue = 'ST_Slope', data = data_raw)\n",
    "pass"
   ]
  },
  {
   "cell_type": "code",
   "execution_count": 108,
   "id": "14c1267e",
   "metadata": {},
   "outputs": [
    {
     "data": {
      "image/png": "[encoded data removed]",
      "text/plain": [
       "<Figure size 432x288 with 1 Axes>"
      ]
     },
     "metadata": {
      "needs_background": "light"
     },
     "output_type": "display_data"
    }
   ],
   "source": [
    "sns.countplot(x = 'HeartDisease', hue = 'Sex', data = data_raw)\n",
    "pass"
   ]
  },
  {
   "cell_type": "code",
   "execution_count": 109,
   "id": "ff8a98a3",
   "metadata": {},
   "outputs": [
    {
     "data": {
      "image/png": "[encoded data removed]",
      "text/plain": [
       "<Figure size 432x288 with 1 Axes>"
      ]
     },
     "metadata": {
      "needs_background": "light"
     },
     "output_type": "display_data"
    }
   ],
   "source": [
    "sns.countplot(x = 'HeartDisease', hue = 'ExerciseAngina', data = data_raw)\n",
    "pass"
   ]
  },
  {
   "cell_type": "code",
   "execution_count": 110,
   "id": "5839dcc6",
   "metadata": {},
   "outputs": [
    {
     "data": {
      "image/png": "[encoded data removed]",
      "text/plain": [
       "<Figure size 432x288 with 1 Axes>"
      ]
     },
     "metadata": {
      "needs_background": "light"
     },
     "output_type": "display_data"
    }
   ],
   "source": [
    "sns.countplot(x = 'HeartDisease', hue = 'FastingBS', data = data_raw)\n",
    "pass"
   ]
  },
  {
   "cell_type": "code",
   "execution_count": 111,
   "id": "502e6451",
   "metadata": {},
   "outputs": [
    {
     "data": {
      "text/plain": [
       "<matplotlib.collections.PathCollection at 0x1e3454bceb0>"
      ]
     },
     "execution_count": 111,
     "metadata": {},
     "output_type": "execute_result"
    },
    {
     "data": {
      "image/png": "[encoded data removed]",
      "text/plain": [
       "<Figure size 432x288 with 1 Axes>"
      ]
     },
     "metadata": {
      "needs_background": "light"
     },
     "output_type": "display_data"
    }
   ],
   "source": [
    "plt.scatter(data_raw['Age'], data_raw['HeartDisease'], alpha = 0.1)"
   ]
  },
  {
   "cell_type": "code",
   "execution_count": 113,
   "id": "664634b7",
   "metadata": {},
   "outputs": [
    {
     "data": {
      "text/plain": [
       "<matplotlib.collections.PathCollection at 0x1e345cfeee0>"
      ]
     },
     "execution_count": 113,
     "metadata": {},
     "output_type": "execute_result"
    },
    {
     "data": {
      "image/png": "[encoded data removed]",
      "text/plain": [
       "<Figure size 432x288 with 1 Axes>"
      ]
     },
     "metadata": {
      "needs_background": "light"
     },
     "output_type": "display_data"
    }
   ],
   "source": [
    "plt.scatter(data_raw['RestingBP'], data_raw['HeartDisease'], alpha = 0.1)"
   ]
  },
  {
   "cell_type": "code",
   "execution_count": 120,
   "id": "52e50393",
   "metadata": {},
   "outputs": [
    {
     "data": {
      "text/plain": [
       "<matplotlib.collections.PathCollection at 0x1e345e28940>"
      ]
     },
     "execution_count": 120,
     "metadata": {},
     "output_type": "execute_result"
    },
    {
     "data": {
      "image/png": "[encoded data removed]",
      "text/plain": [
       "<Figure size 432x288 with 1 Axes>"
      ]
     },
     "metadata": {
      "needs_background": "light"
     },
     "output_type": "display_data"
    }
   ],
   "source": [
    "plt.scatter(data_raw['Cholesterol'], data_raw['HeartDisease'], alpha = 0.1)"
   ]
  },
  {
   "cell_type": "code",
   "execution_count": 121,
   "id": "598050a1",
   "metadata": {},
   "outputs": [
    {
     "data": {
      "text/plain": [
       "<matplotlib.collections.PathCollection at 0x1e3454d99a0>"
      ]
     },
     "execution_count": 121,
     "metadata": {},
     "output_type": "execute_result"
    },
    {
     "data": {
      "image/png": "[encoded data removed]",
      "text/plain": [
       "<Figure size 432x288 with 1 Axes>"
      ]
     },
     "metadata": {
      "needs_background": "light"
     },
     "output_type": "display_data"
    }
   ],
   "source": [
    "plt.scatter(data_raw['MaxHR'], data_raw['HeartDisease'], alpha = 0.1)"
   ]
  },
  {
   "cell_type": "code",
   "execution_count": 123,
   "id": "6f8a0a9c",
   "metadata": {},
   "outputs": [
    {
     "data": {
      "text/plain": [
       "<matplotlib.collections.PathCollection at 0x1e346f78af0>"
      ]
     },
     "execution_count": 123,
     "metadata": {},
     "output_type": "execute_result"
    },
    {
     "data": {
      "image/png": "[encoded data removed]",
      "text/plain": [
       "<Figure size 432x288 with 1 Axes>"
      ]
     },
     "metadata": {
      "needs_background": "light"
     },
     "output_type": "display_data"
    }
   ],
   "source": [
    "plt.scatter(data_raw['Oldpeak'], data_raw['HeartDisease'], alpha = 0.1)"
   ]
  },
  {
   "cell_type": "markdown",
   "id": "06472a91",
   "metadata": {},
   "source": [
    "### Матрица корреляции:"
   ]
  },
  {
   "cell_type": "code",
   "execution_count": 106,
   "id": "ffa1fc9f",
   "metadata": {},
   "outputs": [
    {
     "data": {
      "text/html": [
       "<div>\n",
       "<style scoped>\n",
       "    .dataframe tbody tr th:only-of-type {\n",
       "        vertical-align: middle;\n",
       "    }\n",
       "\n",
       "    .dataframe tbody tr th {\n",
       "        vertical-align: top;\n",
       "    }\n",
       "\n",
       "    .dataframe thead th {\n",
       "        text-align: right;\n",
       "    }\n",
       "</style>\n",
       "<table border=\"1\" class=\"dataframe\">\n",
       "  <thead>\n",
       "    <tr style=\"text-align: right;\">\n",
       "      <th></th>\n",
       "      <th>Age</th>\n",
       "      <th>Sex</th>\n",
       "      <th>RestingBP</th>\n",
       "      <th>Cholesterol</th>\n",
       "      <th>FastingBS</th>\n",
       "      <th>MaxHR</th>\n",
       "      <th>ExerciseAngina</th>\n",
       "      <th>Oldpeak</th>\n",
       "      <th>HeartDisease</th>\n",
       "      <th>ASY</th>\n",
       "      <th>ATA</th>\n",
       "      <th>NAP</th>\n",
       "      <th>TA</th>\n",
       "      <th>LVH</th>\n",
       "      <th>Normal</th>\n",
       "      <th>ST</th>\n",
       "      <th>Down</th>\n",
       "      <th>Flat</th>\n",
       "      <th>Up</th>\n",
       "    </tr>\n",
       "  </thead>\n",
       "  <tbody>\n",
       "    <tr>\n",
       "      <th>Age</th>\n",
       "      <td>1.000000</td>\n",
       "      <td>-0.054444</td>\n",
       "      <td>0.256650</td>\n",
       "      <td>-0.079743</td>\n",
       "      <td>0.184629</td>\n",
       "      <td>-0.373830</td>\n",
       "      <td>0.209607</td>\n",
       "      <td>0.265561</td>\n",
       "      <td>0.299849</td>\n",
       "      <td>0.166762</td>\n",
       "      <td>-0.215902</td>\n",
       "      <td>-0.016607</td>\n",
       "      <td>0.036844</td>\n",
       "      <td>0.143150</td>\n",
       "      <td>-0.222071</td>\n",
       "      <td>0.128115</td>\n",
       "      <td>0.130592</td>\n",
       "      <td>0.197677</td>\n",
       "      <td>-0.266301</td>\n",
       "    </tr>\n",
       "    <tr>\n",
       "      <th>Sex</th>\n",
       "      <td>-0.054444</td>\n",
       "      <td>1.000000</td>\n",
       "      <td>0.004163</td>\n",
       "      <td>0.192666</td>\n",
       "      <td>-0.118733</td>\n",
       "      <td>0.177760</td>\n",
       "      <td>-0.171803</td>\n",
       "      <td>-0.074744</td>\n",
       "      <td>-0.260576</td>\n",
       "      <td>-0.166541</td>\n",
       "      <td>0.137392</td>\n",
       "      <td>0.074977</td>\n",
       "      <td>-0.009643</td>\n",
       "      <td>0.069388</td>\n",
       "      <td>-0.004604</td>\n",
       "      <td>-0.070597</td>\n",
       "      <td>-0.053272</td>\n",
       "      <td>-0.087519</td>\n",
       "      <td>0.115579</td>\n",
       "    </tr>\n",
       "    <tr>\n",
       "      <th>RestingBP</th>\n",
       "      <td>0.256650</td>\n",
       "      <td>0.004163</td>\n",
       "      <td>1.000000</td>\n",
       "      <td>0.098361</td>\n",
       "      <td>0.094519</td>\n",
       "      <td>-0.103956</td>\n",
       "      <td>0.140420</td>\n",
       "      <td>0.157261</td>\n",
       "      <td>0.108610</td>\n",
       "      <td>0.045648</td>\n",
       "      <td>-0.054139</td>\n",
       "      <td>-0.032240</td>\n",
       "      <td>0.053806</td>\n",
       "      <td>0.072102</td>\n",
       "      <td>-0.123967</td>\n",
       "      <td>0.080131</td>\n",
       "      <td>-0.017678</td>\n",
       "      <td>0.098878</td>\n",
       "      <td>-0.090809</td>\n",
       "    </tr>\n",
       "    <tr>\n",
       "      <th>Cholesterol</th>\n",
       "      <td>-0.079743</td>\n",
       "      <td>0.192666</td>\n",
       "      <td>0.098361</td>\n",
       "      <td>1.000000</td>\n",
       "      <td>-0.249662</td>\n",
       "      <td>0.246187</td>\n",
       "      <td>-0.032527</td>\n",
       "      <td>0.052245</td>\n",
       "      <td>-0.219963</td>\n",
       "      <td>-0.124465</td>\n",
       "      <td>0.142258</td>\n",
       "      <td>0.004306</td>\n",
       "      <td>0.021078</td>\n",
       "      <td>0.187029</td>\n",
       "      <td>-0.047779</td>\n",
       "      <td>-0.144738</td>\n",
       "      <td>-0.079944</td>\n",
       "      <td>-0.050272</td>\n",
       "      <td>0.091595</td>\n",
       "    </tr>\n",
       "    <tr>\n",
       "      <th>FastingBS</th>\n",
       "      <td>0.184629</td>\n",
       "      <td>-0.118733</td>\n",
       "      <td>0.094519</td>\n",
       "      <td>-0.249662</td>\n",
       "      <td>1.000000</td>\n",
       "      <td>-0.135445</td>\n",
       "      <td>0.077870</td>\n",
       "      <td>0.059583</td>\n",
       "      <td>0.250702</td>\n",
       "      <td>0.126193</td>\n",
       "      <td>-0.143367</td>\n",
       "      <td>-0.034359</td>\n",
       "      <td>0.033917</td>\n",
       "      <td>-0.011930</td>\n",
       "      <td>-0.090154</td>\n",
       "      <td>0.129261</td>\n",
       "      <td>0.087707</td>\n",
       "      <td>0.110321</td>\n",
       "      <td>-0.156192</td>\n",
       "    </tr>\n",
       "    <tr>\n",
       "      <th>MaxHR</th>\n",
       "      <td>-0.373830</td>\n",
       "      <td>0.177760</td>\n",
       "      <td>-0.103956</td>\n",
       "      <td>0.246187</td>\n",
       "      <td>-0.135445</td>\n",
       "      <td>1.000000</td>\n",
       "      <td>-0.374442</td>\n",
       "      <td>-0.158417</td>\n",
       "      <td>-0.408519</td>\n",
       "      <td>-0.365116</td>\n",
       "      <td>0.258879</td>\n",
       "      <td>0.136710</td>\n",
       "      <td>0.105816</td>\n",
       "      <td>0.138545</td>\n",
       "      <td>0.017866</td>\n",
       "      <td>-0.175805</td>\n",
       "      <td>-0.058722</td>\n",
       "      <td>-0.351940</td>\n",
       "      <td>0.385353</td>\n",
       "    </tr>\n",
       "    <tr>\n",
       "      <th>ExerciseAngina</th>\n",
       "      <td>0.209607</td>\n",
       "      <td>-0.171803</td>\n",
       "      <td>0.140420</td>\n",
       "      <td>-0.032527</td>\n",
       "      <td>0.077870</td>\n",
       "      <td>-0.374442</td>\n",
       "      <td>1.000000</td>\n",
       "      <td>0.385488</td>\n",
       "      <td>0.496362</td>\n",
       "      <td>0.437307</td>\n",
       "      <td>-0.299129</td>\n",
       "      <td>-0.170296</td>\n",
       "      <td>-0.133579</td>\n",
       "      <td>-0.017329</td>\n",
       "      <td>-0.069159</td>\n",
       "      <td>0.108177</td>\n",
       "      <td>0.108032</td>\n",
       "      <td>0.379209</td>\n",
       "      <td>-0.438073</td>\n",
       "    </tr>\n",
       "    <tr>\n",
       "      <th>Oldpeak</th>\n",
       "      <td>0.265561</td>\n",
       "      <td>-0.074744</td>\n",
       "      <td>0.157261</td>\n",
       "      <td>0.052245</td>\n",
       "      <td>0.059583</td>\n",
       "      <td>-0.158417</td>\n",
       "      <td>0.385488</td>\n",
       "      <td>1.000000</td>\n",
       "      <td>0.406686</td>\n",
       "      <td>0.289048</td>\n",
       "      <td>-0.261765</td>\n",
       "      <td>-0.109374</td>\n",
       "      <td>0.018464</td>\n",
       "      <td>0.105326</td>\n",
       "      <td>-0.131495</td>\n",
       "      <td>0.053182</td>\n",
       "      <td>0.334729</td>\n",
       "      <td>0.269632</td>\n",
       "      <td>-0.443224</td>\n",
       "    </tr>\n",
       "    <tr>\n",
       "      <th>HeartDisease</th>\n",
       "      <td>0.299849</td>\n",
       "      <td>-0.260576</td>\n",
       "      <td>0.108610</td>\n",
       "      <td>-0.219963</td>\n",
       "      <td>0.250702</td>\n",
       "      <td>-0.408519</td>\n",
       "      <td>0.496362</td>\n",
       "      <td>0.406686</td>\n",
       "      <td>1.000000</td>\n",
       "      <td>0.524628</td>\n",
       "      <td>-0.387910</td>\n",
       "      <td>-0.233911</td>\n",
       "      <td>-0.053005</td>\n",
       "      <td>0.023867</td>\n",
       "      <td>-0.103159</td>\n",
       "      <td>0.106531</td>\n",
       "      <td>0.122649</td>\n",
       "      <td>0.533143</td>\n",
       "      <td>-0.600969</td>\n",
       "    </tr>\n",
       "    <tr>\n",
       "      <th>ASY</th>\n",
       "      <td>0.166762</td>\n",
       "      <td>-0.166541</td>\n",
       "      <td>0.045648</td>\n",
       "      <td>-0.124465</td>\n",
       "      <td>0.126193</td>\n",
       "      <td>-0.365116</td>\n",
       "      <td>0.437307</td>\n",
       "      <td>0.289048</td>\n",
       "      <td>0.524628</td>\n",
       "      <td>1.000000</td>\n",
       "      <td>-0.511596</td>\n",
       "      <td>-0.579699</td>\n",
       "      <td>-0.248702</td>\n",
       "      <td>0.004656</td>\n",
       "      <td>-0.070494</td>\n",
       "      <td>0.085649</td>\n",
       "      <td>0.100318</td>\n",
       "      <td>0.293893</td>\n",
       "      <td>-0.347988</td>\n",
       "    </tr>\n",
       "    <tr>\n",
       "      <th>ATA</th>\n",
       "      <td>-0.215902</td>\n",
       "      <td>0.137392</td>\n",
       "      <td>-0.054139</td>\n",
       "      <td>0.142258</td>\n",
       "      <td>-0.143367</td>\n",
       "      <td>0.258879</td>\n",
       "      <td>-0.299129</td>\n",
       "      <td>-0.261765</td>\n",
       "      <td>-0.387910</td>\n",
       "      <td>-0.511596</td>\n",
       "      <td>1.000000</td>\n",
       "      <td>-0.263070</td>\n",
       "      <td>-0.112862</td>\n",
       "      <td>-0.078105</td>\n",
       "      <td>0.102224</td>\n",
       "      <td>-0.045508</td>\n",
       "      <td>-0.081253</td>\n",
       "      <td>-0.296600</td>\n",
       "      <td>0.340984</td>\n",
       "    </tr>\n",
       "    <tr>\n",
       "      <th>NAP</th>\n",
       "      <td>-0.016607</td>\n",
       "      <td>0.074977</td>\n",
       "      <td>-0.032240</td>\n",
       "      <td>0.004306</td>\n",
       "      <td>-0.034359</td>\n",
       "      <td>0.136710</td>\n",
       "      <td>-0.170296</td>\n",
       "      <td>-0.109374</td>\n",
       "      <td>-0.233911</td>\n",
       "      <td>-0.579699</td>\n",
       "      <td>-0.263070</td>\n",
       "      <td>1.000000</td>\n",
       "      <td>-0.127886</td>\n",
       "      <td>0.023659</td>\n",
       "      <td>0.019334</td>\n",
       "      <td>-0.050992</td>\n",
       "      <td>-0.046811</td>\n",
       "      <td>-0.075199</td>\n",
       "      <td>0.099840</td>\n",
       "    </tr>\n",
       "    <tr>\n",
       "      <th>TA</th>\n",
       "      <td>0.036844</td>\n",
       "      <td>-0.009643</td>\n",
       "      <td>0.053806</td>\n",
       "      <td>0.021078</td>\n",
       "      <td>0.033917</td>\n",
       "      <td>0.105816</td>\n",
       "      <td>-0.133579</td>\n",
       "      <td>0.018464</td>\n",
       "      <td>-0.053005</td>\n",
       "      <td>-0.248702</td>\n",
       "      <td>-0.112862</td>\n",
       "      <td>-0.127886</td>\n",
       "      <td>1.000000</td>\n",
       "      <td>0.082267</td>\n",
       "      <td>-0.058194</td>\n",
       "      <td>-0.015785</td>\n",
       "      <td>0.006276</td>\n",
       "      <td>0.004190</td>\n",
       "      <td>-0.007436</td>\n",
       "    </tr>\n",
       "    <tr>\n",
       "      <th>LVH</th>\n",
       "      <td>0.143150</td>\n",
       "      <td>0.069388</td>\n",
       "      <td>0.072102</td>\n",
       "      <td>0.187029</td>\n",
       "      <td>-0.011930</td>\n",
       "      <td>0.138545</td>\n",
       "      <td>-0.017329</td>\n",
       "      <td>0.105326</td>\n",
       "      <td>0.023867</td>\n",
       "      <td>0.004656</td>\n",
       "      <td>-0.078105</td>\n",
       "      <td>0.023659</td>\n",
       "      <td>0.082267</td>\n",
       "      <td>1.000000</td>\n",
       "      <td>-0.660010</td>\n",
       "      <td>-0.252888</td>\n",
       "      <td>0.026986</td>\n",
       "      <td>0.032129</td>\n",
       "      <td>-0.046225</td>\n",
       "    </tr>\n",
       "    <tr>\n",
       "      <th>Normal</th>\n",
       "      <td>-0.222071</td>\n",
       "      <td>-0.004604</td>\n",
       "      <td>-0.123967</td>\n",
       "      <td>-0.047779</td>\n",
       "      <td>-0.090154</td>\n",
       "      <td>0.017866</td>\n",
       "      <td>-0.069159</td>\n",
       "      <td>-0.131495</td>\n",
       "      <td>-0.103159</td>\n",
       "      <td>-0.070494</td>\n",
       "      <td>0.102224</td>\n",
       "      <td>0.019334</td>\n",
       "      <td>-0.058194</td>\n",
       "      <td>-0.660010</td>\n",
       "      <td>1.000000</td>\n",
       "      <td>-0.559929</td>\n",
       "      <td>-0.051825</td>\n",
       "      <td>-0.059132</td>\n",
       "      <td>0.086178</td>\n",
       "    </tr>\n",
       "    <tr>\n",
       "      <th>ST</th>\n",
       "      <td>0.128115</td>\n",
       "      <td>-0.070597</td>\n",
       "      <td>0.080131</td>\n",
       "      <td>-0.144738</td>\n",
       "      <td>0.129261</td>\n",
       "      <td>-0.175805</td>\n",
       "      <td>0.108177</td>\n",
       "      <td>0.053182</td>\n",
       "      <td>0.106531</td>\n",
       "      <td>0.085649</td>\n",
       "      <td>-0.045508</td>\n",
       "      <td>-0.050992</td>\n",
       "      <td>-0.015785</td>\n",
       "      <td>-0.252888</td>\n",
       "      <td>-0.559929</td>\n",
       "      <td>1.000000</td>\n",
       "      <td>0.036980</td>\n",
       "      <td>0.040718</td>\n",
       "      <td>-0.060002</td>\n",
       "    </tr>\n",
       "    <tr>\n",
       "      <th>Down</th>\n",
       "      <td>0.130592</td>\n",
       "      <td>-0.053272</td>\n",
       "      <td>-0.017678</td>\n",
       "      <td>-0.079944</td>\n",
       "      <td>0.087707</td>\n",
       "      <td>-0.058722</td>\n",
       "      <td>0.108032</td>\n",
       "      <td>0.334729</td>\n",
       "      <td>0.122649</td>\n",
       "      <td>0.100318</td>\n",
       "      <td>-0.081253</td>\n",
       "      <td>-0.046811</td>\n",
       "      <td>0.006276</td>\n",
       "      <td>0.026986</td>\n",
       "      <td>-0.051825</td>\n",
       "      <td>0.036980</td>\n",
       "      <td>1.000000</td>\n",
       "      <td>-0.271858</td>\n",
       "      <td>-0.236284</td>\n",
       "    </tr>\n",
       "    <tr>\n",
       "      <th>Flat</th>\n",
       "      <td>0.197677</td>\n",
       "      <td>-0.087519</td>\n",
       "      <td>0.098878</td>\n",
       "      <td>-0.050272</td>\n",
       "      <td>0.110321</td>\n",
       "      <td>-0.351940</td>\n",
       "      <td>0.379209</td>\n",
       "      <td>0.269632</td>\n",
       "      <td>0.533143</td>\n",
       "      <td>0.293893</td>\n",
       "      <td>-0.296600</td>\n",
       "      <td>-0.075199</td>\n",
       "      <td>0.004190</td>\n",
       "      <td>0.032129</td>\n",
       "      <td>-0.059132</td>\n",
       "      <td>0.040718</td>\n",
       "      <td>-0.271858</td>\n",
       "      <td>1.000000</td>\n",
       "      <td>-0.870852</td>\n",
       "    </tr>\n",
       "    <tr>\n",
       "      <th>Up</th>\n",
       "      <td>-0.266301</td>\n",
       "      <td>0.115579</td>\n",
       "      <td>-0.090809</td>\n",
       "      <td>0.091595</td>\n",
       "      <td>-0.156192</td>\n",
       "      <td>0.385353</td>\n",
       "      <td>-0.438073</td>\n",
       "      <td>-0.443224</td>\n",
       "      <td>-0.600969</td>\n",
       "      <td>-0.347988</td>\n",
       "      <td>0.340984</td>\n",
       "      <td>0.099840</td>\n",
       "      <td>-0.007436</td>\n",
       "      <td>-0.046225</td>\n",
       "      <td>0.086178</td>\n",
       "      <td>-0.060002</td>\n",
       "      <td>-0.236284</td>\n",
       "      <td>-0.870852</td>\n",
       "      <td>1.000000</td>\n",
       "    </tr>\n",
       "  </tbody>\n",
       "</table>\n",
       "</div>"
      ],
      "text/plain": [
       "                     Age       Sex  RestingBP  Cholesterol  FastingBS  \\\n",
       "Age             1.000000 -0.054444   0.256650    -0.079743   0.184629   \n",
       "Sex            -0.054444  1.000000   0.004163     0.192666  -0.118733   \n",
       "RestingBP       0.256650  0.004163   1.000000     0.098361   0.094519   \n",
       "Cholesterol    -0.079743  0.192666   0.098361     1.000000  -0.249662   \n",
       "FastingBS       0.184629 -0.118733   0.094519    -0.249662   1.000000   \n",
       "MaxHR          -0.373830  0.177760  -0.103956     0.246187  -0.135445   \n",
       "ExerciseAngina  0.209607 -0.171803   0.140420    -0.032527   0.077870   \n",
       "Oldpeak         0.265561 -0.074744   0.157261     0.052245   0.059583   \n",
       "HeartDisease    0.299849 -0.260576   0.108610    -0.219963   0.250702   \n",
       "ASY             0.166762 -0.166541   0.045648    -0.124465   0.126193   \n",
       "ATA            -0.215902  0.137392  -0.054139     0.142258  -0.143367   \n",
       "NAP            -0.016607  0.074977  -0.032240     0.004306  -0.034359   \n",
       "TA              0.036844 -0.009643   0.053806     0.021078   0.033917   \n",
       "LVH             0.143150  0.069388   0.072102     0.187029  -0.011930   \n",
       "Normal         -0.222071 -0.004604  -0.123967    -0.047779  -0.090154   \n",
       "ST              0.128115 -0.070597   0.080131    -0.144738   0.129261   \n",
       "Down            0.130592 -0.053272  -0.017678    -0.079944   0.087707   \n",
       "Flat            0.197677 -0.087519   0.098878    -0.050272   0.110321   \n",
       "Up             -0.266301  0.115579  -0.090809     0.091595  -0.156192   \n",
       "\n",
       "                   MaxHR  ExerciseAngina   Oldpeak  HeartDisease       ASY  \\\n",
       "Age            -0.373830        0.209607  0.265561      0.299849  0.166762   \n",
       "Sex             0.177760       -0.171803 -0.074744     -0.260576 -0.166541   \n",
       "RestingBP      -0.103956        0.140420  0.157261      0.108610  0.045648   \n",
       "Cholesterol     0.246187       -0.032527  0.052245     -0.219963 -0.124465   \n",
       "FastingBS      -0.135445        0.077870  0.059583      0.250702  0.126193   \n",
       "MaxHR           1.000000       -0.374442 -0.158417     -0.408519 -0.365116   \n",
       "ExerciseAngina -0.374442        1.000000  0.385488      0.496362  0.437307   \n",
       "Oldpeak        -0.158417        0.385488  1.000000      0.406686  0.289048   \n",
       "HeartDisease   -0.408519        0.496362  0.406686      1.000000  0.524628   \n",
       "ASY            -0.365116        0.437307  0.289048      0.524628  1.000000   \n",
       "ATA             0.258879       -0.299129 -0.261765     -0.387910 -0.511596   \n",
       "NAP             0.136710       -0.170296 -0.109374     -0.233911 -0.579699   \n",
       "TA              0.105816       -0.133579  0.018464     -0.053005 -0.248702   \n",
       "LVH             0.138545       -0.017329  0.105326      0.023867  0.004656   \n",
       "Normal          0.017866       -0.069159 -0.131495     -0.103159 -0.070494   \n",
       "ST             -0.175805        0.108177  0.053182      0.106531  0.085649   \n",
       "Down           -0.058722        0.108032  0.334729      0.122649  0.100318   \n",
       "Flat           -0.351940        0.379209  0.269632      0.533143  0.293893   \n",
       "Up              0.385353       -0.438073 -0.443224     -0.600969 -0.347988   \n",
       "\n",
       "                     ATA       NAP        TA       LVH    Normal        ST  \\\n",
       "Age            -0.215902 -0.016607  0.036844  0.143150 -0.222071  0.128115   \n",
       "Sex             0.137392  0.074977 -0.009643  0.069388 -0.004604 -0.070597   \n",
       "RestingBP      -0.054139 -0.032240  0.053806  0.072102 -0.123967  0.080131   \n",
       "Cholesterol     0.142258  0.004306  0.021078  0.187029 -0.047779 -0.144738   \n",
       "FastingBS      -0.143367 -0.034359  0.033917 -0.011930 -0.090154  0.129261   \n",
       "MaxHR           0.258879  0.136710  0.105816  0.138545  0.017866 -0.175805   \n",
       "ExerciseAngina -0.299129 -0.170296 -0.133579 -0.017329 -0.069159  0.108177   \n",
       "Oldpeak        -0.261765 -0.109374  0.018464  0.105326 -0.131495  0.053182   \n",
       "HeartDisease   -0.387910 -0.233911 -0.053005  0.023867 -0.103159  0.106531   \n",
       "ASY            -0.511596 -0.579699 -0.248702  0.004656 -0.070494  0.085649   \n",
       "ATA             1.000000 -0.263070 -0.112862 -0.078105  0.102224 -0.045508   \n",
       "NAP            -0.263070  1.000000 -0.127886  0.023659  0.019334 -0.050992   \n",
       "TA             -0.112862 -0.127886  1.000000  0.082267 -0.058194 -0.015785   \n",
       "LVH            -0.078105  0.023659  0.082267  1.000000 -0.660010 -0.252888   \n",
       "Normal          0.102224  0.019334 -0.058194 -0.660010  1.000000 -0.559929   \n",
       "ST             -0.045508 -0.050992 -0.015785 -0.252888 -0.559929  1.000000   \n",
       "Down           -0.081253 -0.046811  0.006276  0.026986 -0.051825  0.036980   \n",
       "Flat           -0.296600 -0.075199  0.004190  0.032129 -0.059132  0.040718   \n",
       "Up              0.340984  0.099840 -0.007436 -0.046225  0.086178 -0.060002   \n",
       "\n",
       "                    Down      Flat        Up  \n",
       "Age             0.130592  0.197677 -0.266301  \n",
       "Sex            -0.053272 -0.087519  0.115579  \n",
       "RestingBP      -0.017678  0.098878 -0.090809  \n",
       "Cholesterol    -0.079944 -0.050272  0.091595  \n",
       "FastingBS       0.087707  0.110321 -0.156192  \n",
       "MaxHR          -0.058722 -0.351940  0.385353  \n",
       "ExerciseAngina  0.108032  0.379209 -0.438073  \n",
       "Oldpeak         0.334729  0.269632 -0.443224  \n",
       "HeartDisease    0.122649  0.533143 -0.600969  \n",
       "ASY             0.100318  0.293893 -0.347988  \n",
       "ATA            -0.081253 -0.296600  0.340984  \n",
       "NAP            -0.046811 -0.075199  0.099840  \n",
       "TA              0.006276  0.004190 -0.007436  \n",
       "LVH             0.026986  0.032129 -0.046225  \n",
       "Normal         -0.051825 -0.059132  0.086178  \n",
       "ST              0.036980  0.040718 -0.060002  \n",
       "Down            1.000000 -0.271858 -0.236284  \n",
       "Flat           -0.271858  1.000000 -0.870852  \n",
       "Up             -0.236284 -0.870852  1.000000  "
      ]
     },
     "execution_count": 106,
     "metadata": {},
     "output_type": "execute_result"
    }
   ],
   "source": [
    "corr_mat = data_raw.corr()\n",
    "corr_mat"
   ]
  },
  {
   "cell_type": "code",
   "execution_count": 99,
   "id": "05e87d99",
   "metadata": {
    "scrolled": true
   },
   "outputs": [
    {
     "data": {
      "image/png": "[encoded data removed]",
      "text/plain": [
       "<Figure size 432x288 with 2 Axes>"
      ]
     },
     "metadata": {
      "needs_background": "light"
     },
     "output_type": "display_data"
    }
   ],
   "source": [
    "sns.heatmap(corr_mat, square=True, vmin = -2.5, vmax = 1, cmap ='coolwarm')\n",
    "pass"
   ]
  },
  {
   "cell_type": "markdown",
   "id": "f0f6e506",
   "metadata": {},
   "source": [
    "# 3. Обработка пропущенных значений"
   ]
  },
  {
   "cell_type": "code",
   "execution_count": 12,
   "id": "78691629",
   "metadata": {},
   "outputs": [
    {
     "data": {
      "text/plain": [
       "Age               3\n",
       "Sex               3\n",
       "ChestPainType     3\n",
       "RestingBP         4\n",
       "Cholesterol       5\n",
       "FastingBS         3\n",
       "RestingECG        4\n",
       "MaxHR             0\n",
       "ExerciseAngina    2\n",
       "Oldpeak           1\n",
       "ST_Slope          1\n",
       "HeartDisease      0\n",
       "dtype: int64"
      ]
     },
     "execution_count": 12,
     "metadata": {},
     "output_type": "execute_result"
    }
   ],
   "source": [
    "data_raw.isna().sum()"
   ]
  },
  {
   "cell_type": "markdown",
   "id": "0928c2cd",
   "metadata": {},
   "source": [
    "### Заполняем пропуски в столбцах с категориальными признаками модой, а с числовыми - медианой"
   ]
  },
  {
   "cell_type": "code",
   "execution_count": 13,
   "id": "a800ecf2",
   "metadata": {},
   "outputs": [],
   "source": [
    "data_raw['Age'].fillna(data_raw['Age'].median(axis = 0), axis = 0, inplace = True)\n",
    "data_raw['RestingBP'].fillna(data_raw['RestingBP'].median(axis = 0), axis = 0, inplace = True)\n",
    "data_raw['Cholesterol'].fillna(data_raw['Cholesterol'].median(axis = 0), axis = 0, inplace = True)\n",
    "data_raw['MaxHR'].fillna(data_raw['MaxHR'].median(axis = 0), axis = 0, inplace = True)\n",
    "data_raw['Oldpeak'].fillna(data_raw['Oldpeak'].median(axis = 0), axis = 0, inplace = True)"
   ]
  },
  {
   "cell_type": "code",
   "execution_count": 14,
   "id": "533f2328",
   "metadata": {},
   "outputs": [],
   "source": [
    "data_raw.fillna(data_raw.mode().iloc[0], inplace = True)"
   ]
  },
  {
   "cell_type": "code",
   "execution_count": 15,
   "id": "4383c9a4",
   "metadata": {},
   "outputs": [
    {
     "data": {
      "text/plain": [
       "Age               0\n",
       "Sex               0\n",
       "ChestPainType     0\n",
       "RestingBP         0\n",
       "Cholesterol       0\n",
       "FastingBS         0\n",
       "RestingECG        0\n",
       "MaxHR             0\n",
       "ExerciseAngina    0\n",
       "Oldpeak           0\n",
       "ST_Slope          0\n",
       "HeartDisease      0\n",
       "dtype: int64"
      ]
     },
     "execution_count": 15,
     "metadata": {},
     "output_type": "execute_result"
    }
   ],
   "source": [
    "data_raw.isna().sum()"
   ]
  },
  {
   "cell_type": "markdown",
   "id": "f932f199",
   "metadata": {},
   "source": [
    "# 4. Обработка признаков, содержащих категориальные значения"
   ]
  },
  {
   "cell_type": "markdown",
   "id": "3c0c0e5f",
   "metadata": {},
   "source": [
    "Обработка бинарных признаков:"
   ]
  },
  {
   "cell_type": "code",
   "execution_count": 16,
   "id": "09c5fc69",
   "metadata": {},
   "outputs": [],
   "source": [
    "data_raw['Sex'] = pd.factorize(data_raw['Sex'])[0]\n",
    "data_raw['ExerciseAngina'] = pd.factorize(data_raw['ExerciseAngina'])[0]\n",
    "data_raw['HeartDisease'] = pd.factorize(data_raw['HeartDisease'])[0]\n",
    "data_raw['FastingBS'] = pd.factorize(data_raw['FastingBS'])[0]"
   ]
  },
  {
   "cell_type": "markdown",
   "id": "221a3efc",
   "metadata": {},
   "source": [
    "Обработка категориальныч признаков:"
   ]
  },
  {
   "cell_type": "code",
   "execution_count": 17,
   "id": "54db8400",
   "metadata": {},
   "outputs": [],
   "source": [
    "ChestPainType_dummies = pd.get_dummies(data_raw['ChestPainType'])\n",
    "data_raw = pd.concat((data_raw, ChestPainType_dummies), axis = 1)\n",
    "data_raw = data_raw.drop(['ChestPainType'], axis = 1)\n",
    "RestingECG_dummies = pd.get_dummies(data_raw['RestingECG'])\n",
    "data_raw = pd.concat((data_raw, RestingECG_dummies), axis = 1)\n",
    "data_raw = data_raw.drop(['RestingECG'], axis = 1)\n",
    "ST_Slope_dummies = pd.get_dummies(data_raw['ST_Slope'])\n",
    "data_raw = pd.concat((data_raw, ST_Slope_dummies), axis = 1)\n",
    "data_raw = data_raw.drop(['ST_Slope'], axis = 1)"
   ]
  },
  {
   "cell_type": "code",
   "execution_count": 18,
   "id": "b1f39bcb",
   "metadata": {},
   "outputs": [
    {
     "data": {
      "text/html": [
       "<div>\n",
       "<style scoped>\n",
       "    .dataframe tbody tr th:only-of-type {\n",
       "        vertical-align: middle;\n",
       "    }\n",
       "\n",
       "    .dataframe tbody tr th {\n",
       "        vertical-align: top;\n",
       "    }\n",
       "\n",
       "    .dataframe thead th {\n",
       "        text-align: right;\n",
       "    }\n",
       "</style>\n",
       "<table border=\"1\" class=\"dataframe\">\n",
       "  <thead>\n",
       "    <tr style=\"text-align: right;\">\n",
       "      <th></th>\n",
       "      <th>Age</th>\n",
       "      <th>Sex</th>\n",
       "      <th>RestingBP</th>\n",
       "      <th>Cholesterol</th>\n",
       "      <th>FastingBS</th>\n",
       "      <th>MaxHR</th>\n",
       "      <th>ExerciseAngina</th>\n",
       "      <th>Oldpeak</th>\n",
       "      <th>HeartDisease</th>\n",
       "      <th>ASY</th>\n",
       "      <th>ATA</th>\n",
       "      <th>NAP</th>\n",
       "      <th>TA</th>\n",
       "      <th>LVH</th>\n",
       "      <th>Normal</th>\n",
       "      <th>ST</th>\n",
       "      <th>Down</th>\n",
       "      <th>Flat</th>\n",
       "      <th>Up</th>\n",
       "    </tr>\n",
       "  </thead>\n",
       "  <tbody>\n",
       "    <tr>\n",
       "      <th>0</th>\n",
       "      <td>40.0</td>\n",
       "      <td>0</td>\n",
       "      <td>140.0</td>\n",
       "      <td>289.0</td>\n",
       "      <td>0</td>\n",
       "      <td>172</td>\n",
       "      <td>0</td>\n",
       "      <td>0.0</td>\n",
       "      <td>0</td>\n",
       "      <td>0</td>\n",
       "      <td>1</td>\n",
       "      <td>0</td>\n",
       "      <td>0</td>\n",
       "      <td>0</td>\n",
       "      <td>1</td>\n",
       "      <td>0</td>\n",
       "      <td>0</td>\n",
       "      <td>0</td>\n",
       "      <td>1</td>\n",
       "    </tr>\n",
       "    <tr>\n",
       "      <th>1</th>\n",
       "      <td>49.0</td>\n",
       "      <td>1</td>\n",
       "      <td>160.0</td>\n",
       "      <td>180.0</td>\n",
       "      <td>0</td>\n",
       "      <td>156</td>\n",
       "      <td>0</td>\n",
       "      <td>1.0</td>\n",
       "      <td>1</td>\n",
       "      <td>0</td>\n",
       "      <td>0</td>\n",
       "      <td>1</td>\n",
       "      <td>0</td>\n",
       "      <td>0</td>\n",
       "      <td>1</td>\n",
       "      <td>0</td>\n",
       "      <td>0</td>\n",
       "      <td>1</td>\n",
       "      <td>0</td>\n",
       "    </tr>\n",
       "    <tr>\n",
       "      <th>2</th>\n",
       "      <td>37.0</td>\n",
       "      <td>0</td>\n",
       "      <td>130.0</td>\n",
       "      <td>283.0</td>\n",
       "      <td>0</td>\n",
       "      <td>98</td>\n",
       "      <td>0</td>\n",
       "      <td>0.0</td>\n",
       "      <td>0</td>\n",
       "      <td>0</td>\n",
       "      <td>1</td>\n",
       "      <td>0</td>\n",
       "      <td>0</td>\n",
       "      <td>0</td>\n",
       "      <td>0</td>\n",
       "      <td>1</td>\n",
       "      <td>0</td>\n",
       "      <td>0</td>\n",
       "      <td>1</td>\n",
       "    </tr>\n",
       "    <tr>\n",
       "      <th>3</th>\n",
       "      <td>48.0</td>\n",
       "      <td>1</td>\n",
       "      <td>138.0</td>\n",
       "      <td>214.0</td>\n",
       "      <td>0</td>\n",
       "      <td>108</td>\n",
       "      <td>1</td>\n",
       "      <td>1.5</td>\n",
       "      <td>1</td>\n",
       "      <td>1</td>\n",
       "      <td>0</td>\n",
       "      <td>0</td>\n",
       "      <td>0</td>\n",
       "      <td>0</td>\n",
       "      <td>1</td>\n",
       "      <td>0</td>\n",
       "      <td>0</td>\n",
       "      <td>1</td>\n",
       "      <td>0</td>\n",
       "    </tr>\n",
       "    <tr>\n",
       "      <th>4</th>\n",
       "      <td>54.0</td>\n",
       "      <td>0</td>\n",
       "      <td>150.0</td>\n",
       "      <td>195.0</td>\n",
       "      <td>0</td>\n",
       "      <td>122</td>\n",
       "      <td>0</td>\n",
       "      <td>0.0</td>\n",
       "      <td>0</td>\n",
       "      <td>0</td>\n",
       "      <td>0</td>\n",
       "      <td>1</td>\n",
       "      <td>0</td>\n",
       "      <td>0</td>\n",
       "      <td>1</td>\n",
       "      <td>0</td>\n",
       "      <td>0</td>\n",
       "      <td>0</td>\n",
       "      <td>1</td>\n",
       "    </tr>\n",
       "    <tr>\n",
       "      <th>...</th>\n",
       "      <td>...</td>\n",
       "      <td>...</td>\n",
       "      <td>...</td>\n",
       "      <td>...</td>\n",
       "      <td>...</td>\n",
       "      <td>...</td>\n",
       "      <td>...</td>\n",
       "      <td>...</td>\n",
       "      <td>...</td>\n",
       "      <td>...</td>\n",
       "      <td>...</td>\n",
       "      <td>...</td>\n",
       "      <td>...</td>\n",
       "      <td>...</td>\n",
       "      <td>...</td>\n",
       "      <td>...</td>\n",
       "      <td>...</td>\n",
       "      <td>...</td>\n",
       "      <td>...</td>\n",
       "    </tr>\n",
       "    <tr>\n",
       "      <th>1014</th>\n",
       "      <td>49.0</td>\n",
       "      <td>0</td>\n",
       "      <td>110.0</td>\n",
       "      <td>264.0</td>\n",
       "      <td>0</td>\n",
       "      <td>132</td>\n",
       "      <td>0</td>\n",
       "      <td>1.2</td>\n",
       "      <td>1</td>\n",
       "      <td>0</td>\n",
       "      <td>0</td>\n",
       "      <td>0</td>\n",
       "      <td>1</td>\n",
       "      <td>0</td>\n",
       "      <td>1</td>\n",
       "      <td>0</td>\n",
       "      <td>0</td>\n",
       "      <td>1</td>\n",
       "      <td>0</td>\n",
       "    </tr>\n",
       "    <tr>\n",
       "      <th>1015</th>\n",
       "      <td>68.0</td>\n",
       "      <td>0</td>\n",
       "      <td>149.0</td>\n",
       "      <td>193.0</td>\n",
       "      <td>1</td>\n",
       "      <td>141</td>\n",
       "      <td>0</td>\n",
       "      <td>3.4</td>\n",
       "      <td>1</td>\n",
       "      <td>1</td>\n",
       "      <td>0</td>\n",
       "      <td>0</td>\n",
       "      <td>0</td>\n",
       "      <td>0</td>\n",
       "      <td>1</td>\n",
       "      <td>0</td>\n",
       "      <td>0</td>\n",
       "      <td>1</td>\n",
       "      <td>0</td>\n",
       "    </tr>\n",
       "    <tr>\n",
       "      <th>1016</th>\n",
       "      <td>57.0</td>\n",
       "      <td>1</td>\n",
       "      <td>130.0</td>\n",
       "      <td>131.0</td>\n",
       "      <td>0</td>\n",
       "      <td>115</td>\n",
       "      <td>1</td>\n",
       "      <td>1.2</td>\n",
       "      <td>1</td>\n",
       "      <td>1</td>\n",
       "      <td>0</td>\n",
       "      <td>0</td>\n",
       "      <td>0</td>\n",
       "      <td>0</td>\n",
       "      <td>1</td>\n",
       "      <td>0</td>\n",
       "      <td>0</td>\n",
       "      <td>1</td>\n",
       "      <td>0</td>\n",
       "    </tr>\n",
       "    <tr>\n",
       "      <th>1017</th>\n",
       "      <td>64.0</td>\n",
       "      <td>1</td>\n",
       "      <td>130.0</td>\n",
       "      <td>236.0</td>\n",
       "      <td>0</td>\n",
       "      <td>174</td>\n",
       "      <td>0</td>\n",
       "      <td>0.0</td>\n",
       "      <td>1</td>\n",
       "      <td>0</td>\n",
       "      <td>1</td>\n",
       "      <td>0</td>\n",
       "      <td>0</td>\n",
       "      <td>1</td>\n",
       "      <td>0</td>\n",
       "      <td>0</td>\n",
       "      <td>0</td>\n",
       "      <td>1</td>\n",
       "      <td>0</td>\n",
       "    </tr>\n",
       "    <tr>\n",
       "      <th>1018</th>\n",
       "      <td>38.0</td>\n",
       "      <td>0</td>\n",
       "      <td>130.0</td>\n",
       "      <td>175.0</td>\n",
       "      <td>0</td>\n",
       "      <td>173</td>\n",
       "      <td>0</td>\n",
       "      <td>0.0</td>\n",
       "      <td>0</td>\n",
       "      <td>0</td>\n",
       "      <td>0</td>\n",
       "      <td>1</td>\n",
       "      <td>0</td>\n",
       "      <td>0</td>\n",
       "      <td>1</td>\n",
       "      <td>0</td>\n",
       "      <td>0</td>\n",
       "      <td>0</td>\n",
       "      <td>1</td>\n",
       "    </tr>\n",
       "  </tbody>\n",
       "</table>\n",
       "<p>1019 rows × 19 columns</p>\n",
       "</div>"
      ],
      "text/plain": [
       "       Age  Sex  RestingBP  Cholesterol  FastingBS  MaxHR  ExerciseAngina  \\\n",
       "0     40.0    0      140.0        289.0          0    172               0   \n",
       "1     49.0    1      160.0        180.0          0    156               0   \n",
       "2     37.0    0      130.0        283.0          0     98               0   \n",
       "3     48.0    1      138.0        214.0          0    108               1   \n",
       "4     54.0    0      150.0        195.0          0    122               0   \n",
       "...    ...  ...        ...          ...        ...    ...             ...   \n",
       "1014  49.0    0      110.0        264.0          0    132               0   \n",
       "1015  68.0    0      149.0        193.0          1    141               0   \n",
       "1016  57.0    1      130.0        131.0          0    115               1   \n",
       "1017  64.0    1      130.0        236.0          0    174               0   \n",
       "1018  38.0    0      130.0        175.0          0    173               0   \n",
       "\n",
       "      Oldpeak  HeartDisease  ASY  ATA  NAP  TA  LVH  Normal  ST  Down  Flat  \\\n",
       "0         0.0             0    0    1    0   0    0       1   0     0     0   \n",
       "1         1.0             1    0    0    1   0    0       1   0     0     1   \n",
       "2         0.0             0    0    1    0   0    0       0   1     0     0   \n",
       "3         1.5             1    1    0    0   0    0       1   0     0     1   \n",
       "4         0.0             0    0    0    1   0    0       1   0     0     0   \n",
       "...       ...           ...  ...  ...  ...  ..  ...     ...  ..   ...   ...   \n",
       "1014      1.2             1    0    0    0   1    0       1   0     0     1   \n",
       "1015      3.4             1    1    0    0   0    0       1   0     0     1   \n",
       "1016      1.2             1    1    0    0   0    0       1   0     0     1   \n",
       "1017      0.0             1    0    1    0   0    1       0   0     0     1   \n",
       "1018      0.0             0    0    0    1   0    0       1   0     0     0   \n",
       "\n",
       "      Up  \n",
       "0      1  \n",
       "1      0  \n",
       "2      1  \n",
       "3      0  \n",
       "4      1  \n",
       "...   ..  \n",
       "1014   0  \n",
       "1015   0  \n",
       "1016   0  \n",
       "1017   0  \n",
       "1018   1  \n",
       "\n",
       "[1019 rows x 19 columns]"
      ]
     },
     "execution_count": 18,
     "metadata": {},
     "output_type": "execute_result"
    }
   ],
   "source": [
    "data_raw"
   ]
  },
  {
   "cell_type": "markdown",
   "id": "4c05f6dd",
   "metadata": {},
   "source": [
    "# 5. Нормализация количественных признаков"
   ]
  },
  {
   "cell_type": "code",
   "execution_count": 20,
   "id": "00d760e6",
   "metadata": {},
   "outputs": [
    {
     "data": {
      "text/html": [
       "<div>\n",
       "<style scoped>\n",
       "    .dataframe tbody tr th:only-of-type {\n",
       "        vertical-align: middle;\n",
       "    }\n",
       "\n",
       "    .dataframe tbody tr th {\n",
       "        vertical-align: top;\n",
       "    }\n",
       "\n",
       "    .dataframe thead th {\n",
       "        text-align: right;\n",
       "    }\n",
       "</style>\n",
       "<table border=\"1\" class=\"dataframe\">\n",
       "  <thead>\n",
       "    <tr style=\"text-align: right;\">\n",
       "      <th></th>\n",
       "      <th>Age</th>\n",
       "      <th>Sex</th>\n",
       "      <th>RestingBP</th>\n",
       "      <th>Cholesterol</th>\n",
       "      <th>FastingBS</th>\n",
       "      <th>MaxHR</th>\n",
       "      <th>ExerciseAngina</th>\n",
       "      <th>Oldpeak</th>\n",
       "      <th>HeartDisease</th>\n",
       "      <th>ASY</th>\n",
       "      <th>ATA</th>\n",
       "      <th>NAP</th>\n",
       "      <th>TA</th>\n",
       "      <th>LVH</th>\n",
       "      <th>Normal</th>\n",
       "      <th>ST</th>\n",
       "      <th>Down</th>\n",
       "      <th>Flat</th>\n",
       "      <th>Up</th>\n",
       "    </tr>\n",
       "  </thead>\n",
       "  <tbody>\n",
       "    <tr>\n",
       "      <th>count</th>\n",
       "      <td>1.019000e+03</td>\n",
       "      <td>1019.000000</td>\n",
       "      <td>1.019000e+03</td>\n",
       "      <td>1.019000e+03</td>\n",
       "      <td>1019.000000</td>\n",
       "      <td>1.019000e+03</td>\n",
       "      <td>1019.000000</td>\n",
       "      <td>1.019000e+03</td>\n",
       "      <td>1019.000000</td>\n",
       "      <td>1019.000000</td>\n",
       "      <td>1019.000000</td>\n",
       "      <td>1019.000000</td>\n",
       "      <td>1019.000000</td>\n",
       "      <td>1019.000000</td>\n",
       "      <td>1019.000000</td>\n",
       "      <td>1019.000000</td>\n",
       "      <td>1019.000000</td>\n",
       "      <td>1019.000000</td>\n",
       "      <td>1019.000000</td>\n",
       "    </tr>\n",
       "    <tr>\n",
       "      <th>mean</th>\n",
       "      <td>1.917559e-17</td>\n",
       "      <td>0.224730</td>\n",
       "      <td>-6.498999e-17</td>\n",
       "      <td>2.293444e-16</td>\n",
       "      <td>0.222767</td>\n",
       "      <td>-6.842199e-17</td>\n",
       "      <td>0.391560</td>\n",
       "      <td>-6.354093e-16</td>\n",
       "      <td>0.546614</td>\n",
       "      <td>0.529931</td>\n",
       "      <td>0.188420</td>\n",
       "      <td>0.229637</td>\n",
       "      <td>0.052012</td>\n",
       "      <td>0.229637</td>\n",
       "      <td>0.593719</td>\n",
       "      <td>0.176644</td>\n",
       "      <td>0.068695</td>\n",
       "      <td>0.500491</td>\n",
       "      <td>0.430815</td>\n",
       "    </tr>\n",
       "    <tr>\n",
       "      <th>std</th>\n",
       "      <td>1.000000e+00</td>\n",
       "      <td>0.417609</td>\n",
       "      <td>1.000000e+00</td>\n",
       "      <td>1.000000e+00</td>\n",
       "      <td>0.416308</td>\n",
       "      <td>1.000000e+00</td>\n",
       "      <td>0.488339</td>\n",
       "      <td>1.000000e+00</td>\n",
       "      <td>0.498067</td>\n",
       "      <td>0.499348</td>\n",
       "      <td>0.391239</td>\n",
       "      <td>0.420806</td>\n",
       "      <td>0.222160</td>\n",
       "      <td>0.420806</td>\n",
       "      <td>0.491379</td>\n",
       "      <td>0.381554</td>\n",
       "      <td>0.253059</td>\n",
       "      <td>0.500245</td>\n",
       "      <td>0.495433</td>\n",
       "    </tr>\n",
       "    <tr>\n",
       "      <th>min</th>\n",
       "      <td>-3.128900e+00</td>\n",
       "      <td>0.000000</td>\n",
       "      <td>-7.257237e+00</td>\n",
       "      <td>-1.921162e+00</td>\n",
       "      <td>0.000000</td>\n",
       "      <td>-3.079004e+00</td>\n",
       "      <td>0.000000</td>\n",
       "      <td>-3.236991e+00</td>\n",
       "      <td>0.000000</td>\n",
       "      <td>0.000000</td>\n",
       "      <td>0.000000</td>\n",
       "      <td>0.000000</td>\n",
       "      <td>0.000000</td>\n",
       "      <td>0.000000</td>\n",
       "      <td>0.000000</td>\n",
       "      <td>0.000000</td>\n",
       "      <td>0.000000</td>\n",
       "      <td>0.000000</td>\n",
       "      <td>0.000000</td>\n",
       "    </tr>\n",
       "    <tr>\n",
       "      <th>25%</th>\n",
       "      <td>-6.922961e-01</td>\n",
       "      <td>0.000000</td>\n",
       "      <td>-6.840365e-01</td>\n",
       "      <td>-2.195277e-01</td>\n",
       "      <td>0.000000</td>\n",
       "      <td>-7.208641e-01</td>\n",
       "      <td>0.000000</td>\n",
       "      <td>-8.384890e-01</td>\n",
       "      <td>0.000000</td>\n",
       "      <td>0.000000</td>\n",
       "      <td>0.000000</td>\n",
       "      <td>0.000000</td>\n",
       "      <td>0.000000</td>\n",
       "      <td>0.000000</td>\n",
       "      <td>0.000000</td>\n",
       "      <td>0.000000</td>\n",
       "      <td>0.000000</td>\n",
       "      <td>0.000000</td>\n",
       "      <td>0.000000</td>\n",
       "    </tr>\n",
       "    <tr>\n",
       "      <th>50%</th>\n",
       "      <td>4.927892e-02</td>\n",
       "      <td>0.000000</td>\n",
       "      <td>-1.362697e-01</td>\n",
       "      <td>1.964273e-01</td>\n",
       "      <td>0.000000</td>\n",
       "      <td>6.518247e-02</td>\n",
       "      <td>0.000000</td>\n",
       "      <td>-2.849885e-01</td>\n",
       "      <td>1.000000</td>\n",
       "      <td>1.000000</td>\n",
       "      <td>0.000000</td>\n",
       "      <td>0.000000</td>\n",
       "      <td>0.000000</td>\n",
       "      <td>0.000000</td>\n",
       "      <td>1.000000</td>\n",
       "      <td>0.000000</td>\n",
       "      <td>0.000000</td>\n",
       "      <td>1.000000</td>\n",
       "      <td>0.000000</td>\n",
       "    </tr>\n",
       "    <tr>\n",
       "      <th>75%</th>\n",
       "      <td>6.849146e-01</td>\n",
       "      <td>0.000000</td>\n",
       "      <td>4.114970e-01</td>\n",
       "      <td>6.076555e-01</td>\n",
       "      <td>0.000000</td>\n",
       "      <td>7.726244e-01</td>\n",
       "      <td>1.000000</td>\n",
       "      <td>5.452623e-01</td>\n",
       "      <td>1.000000</td>\n",
       "      <td>1.000000</td>\n",
       "      <td>0.000000</td>\n",
       "      <td>0.000000</td>\n",
       "      <td>0.000000</td>\n",
       "      <td>0.000000</td>\n",
       "      <td>1.000000</td>\n",
       "      <td>0.000000</td>\n",
       "      <td>0.000000</td>\n",
       "      <td>1.000000</td>\n",
       "      <td>1.000000</td>\n",
       "    </tr>\n",
       "    <tr>\n",
       "      <th>max</th>\n",
       "      <td>2.485883e+00</td>\n",
       "      <td>1.000000</td>\n",
       "      <td>3.698097e+00</td>\n",
       "      <td>3.779312e+00</td>\n",
       "      <td>1.000000</td>\n",
       "      <td>2.501927e+00</td>\n",
       "      <td>1.000000</td>\n",
       "      <td>4.881016e+00</td>\n",
       "      <td>1.000000</td>\n",
       "      <td>1.000000</td>\n",
       "      <td>1.000000</td>\n",
       "      <td>1.000000</td>\n",
       "      <td>1.000000</td>\n",
       "      <td>1.000000</td>\n",
       "      <td>1.000000</td>\n",
       "      <td>1.000000</td>\n",
       "      <td>1.000000</td>\n",
       "      <td>1.000000</td>\n",
       "      <td>1.000000</td>\n",
       "    </tr>\n",
       "  </tbody>\n",
       "</table>\n",
       "</div>"
      ],
      "text/plain": [
       "                Age          Sex     RestingBP   Cholesterol    FastingBS  \\\n",
       "count  1.019000e+03  1019.000000  1.019000e+03  1.019000e+03  1019.000000   \n",
       "mean   1.917559e-17     0.224730 -6.498999e-17  2.293444e-16     0.222767   \n",
       "std    1.000000e+00     0.417609  1.000000e+00  1.000000e+00     0.416308   \n",
       "min   -3.128900e+00     0.000000 -7.257237e+00 -1.921162e+00     0.000000   \n",
       "25%   -6.922961e-01     0.000000 -6.840365e-01 -2.195277e-01     0.000000   \n",
       "50%    4.927892e-02     0.000000 -1.362697e-01  1.964273e-01     0.000000   \n",
       "75%    6.849146e-01     0.000000  4.114970e-01  6.076555e-01     0.000000   \n",
       "max    2.485883e+00     1.000000  3.698097e+00  3.779312e+00     1.000000   \n",
       "\n",
       "              MaxHR  ExerciseAngina       Oldpeak  HeartDisease          ASY  \\\n",
       "count  1.019000e+03     1019.000000  1.019000e+03   1019.000000  1019.000000   \n",
       "mean  -6.842199e-17        0.391560 -6.354093e-16      0.546614     0.529931   \n",
       "std    1.000000e+00        0.488339  1.000000e+00      0.498067     0.499348   \n",
       "min   -3.079004e+00        0.000000 -3.236991e+00      0.000000     0.000000   \n",
       "25%   -7.208641e-01        0.000000 -8.384890e-01      0.000000     0.000000   \n",
       "50%    6.518247e-02        0.000000 -2.849885e-01      1.000000     1.000000   \n",
       "75%    7.726244e-01        1.000000  5.452623e-01      1.000000     1.000000   \n",
       "max    2.501927e+00        1.000000  4.881016e+00      1.000000     1.000000   \n",
       "\n",
       "               ATA          NAP           TA          LVH       Normal  \\\n",
       "count  1019.000000  1019.000000  1019.000000  1019.000000  1019.000000   \n",
       "mean      0.188420     0.229637     0.052012     0.229637     0.593719   \n",
       "std       0.391239     0.420806     0.222160     0.420806     0.491379   \n",
       "min       0.000000     0.000000     0.000000     0.000000     0.000000   \n",
       "25%       0.000000     0.000000     0.000000     0.000000     0.000000   \n",
       "50%       0.000000     0.000000     0.000000     0.000000     1.000000   \n",
       "75%       0.000000     0.000000     0.000000     0.000000     1.000000   \n",
       "max       1.000000     1.000000     1.000000     1.000000     1.000000   \n",
       "\n",
       "                ST         Down         Flat           Up  \n",
       "count  1019.000000  1019.000000  1019.000000  1019.000000  \n",
       "mean      0.176644     0.068695     0.500491     0.430815  \n",
       "std       0.381554     0.253059     0.500245     0.495433  \n",
       "min       0.000000     0.000000     0.000000     0.000000  \n",
       "25%       0.000000     0.000000     0.000000     0.000000  \n",
       "50%       0.000000     0.000000     1.000000     0.000000  \n",
       "75%       0.000000     0.000000     1.000000     1.000000  \n",
       "max       1.000000     1.000000     1.000000     1.000000  "
      ]
     },
     "execution_count": 20,
     "metadata": {},
     "output_type": "execute_result"
    }
   ],
   "source": [
    "data_raw['Age'] = (data_raw['Age'] - data_raw['Age'].mean(axis=0))/data_raw['Age'].std(axis=0)\n",
    "data_raw['RestingBP'] = (data_raw['RestingBP'] - data_raw['RestingBP'].mean(axis=0))/data_raw['RestingBP'].std(axis=0)\n",
    "data_raw['Cholesterol'] = (data_raw['Cholesterol'] - data_raw['Cholesterol'].mean(axis=0))/data_raw['Cholesterol'].std(axis=0)\n",
    "data_raw['MaxHR'] = (data_raw['MaxHR'] - data_raw['MaxHR'].mean(axis=0))/data_raw['MaxHR'].std(axis=0)\n",
    "data_raw['Oldpeak'] = (data_raw['Oldpeak'] - data_raw['Oldpeak'].mean(axis=0))/data_raw['Oldpeak'].std(axis=0)\n",
    "data_raw.describe()"
   ]
  },
  {
   "cell_type": "markdown",
   "id": "7f61ba9e",
   "metadata": {},
   "source": [
    "# 6. Разбивка данных на учебную и тестовую выборки"
   ]
  },
  {
   "cell_type": "code",
   "execution_count": 21,
   "id": "2f9d8e5d",
   "metadata": {},
   "outputs": [
    {
     "data": {
      "text/plain": [
       "((764, 18), (255, 18))"
      ]
     },
     "execution_count": 21,
     "metadata": {},
     "output_type": "execute_result"
    }
   ],
   "source": [
    "y = data_raw['HeartDisease']\n",
    "X = data_raw.drop(['HeartDisease'], axis = 1)\n",
    "from sklearn. model_selection import train_test_split\n",
    "X_train, X_test, y_train, y_test = train_test_split(X, y, test_size = 0.25, stratify = y, random_state = 42)\n",
    "X_train.shape, X_test.shape"
   ]
  },
  {
   "cell_type": "markdown",
   "id": "17edc92a",
   "metadata": {},
   "source": [
    "# 7. Классификатор ближайших соседей"
   ]
  },
  {
   "cell_type": "code",
   "execution_count": 22,
   "id": "afef3bc9",
   "metadata": {},
   "outputs": [
    {
     "data": {
      "text/plain": [
       "KNeighborsClassifier(n_neighbors=7, p=1)"
      ]
     },
     "execution_count": 22,
     "metadata": {},
     "output_type": "execute_result"
    }
   ],
   "source": [
    "from sklearn.neighbors import KNeighborsClassifier\n",
    "model = KNeighborsClassifier (n_neighbors = 7, p = 1)\n",
    "model.fit(X_train, y_train)"
   ]
  },
  {
   "cell_type": "markdown",
   "id": "897bdb27",
   "metadata": {},
   "source": [
    "# 8. Вычисление ошибки на обучающей и тестовой выборках"
   ]
  },
  {
   "cell_type": "code",
   "execution_count": 23,
   "id": "fc4150c3",
   "metadata": {},
   "outputs": [],
   "source": [
    "y_train_pred = model.predict(X_train)\n",
    "y_test_pred = model.predict(X_test)"
   ]
  },
  {
   "cell_type": "markdown",
   "id": "15f3a38a",
   "metadata": {},
   "source": [
    "Вычисление ошибки на обучающей выборке:"
   ]
  },
  {
   "cell_type": "code",
   "execution_count": 24,
   "id": "3fc9e554",
   "metadata": {},
   "outputs": [
    {
     "data": {
      "text/plain": [
       "0.1099476439790576"
      ]
     },
     "execution_count": 24,
     "metadata": {},
     "output_type": "execute_result"
    }
   ],
   "source": [
    "np.mean(y_train != y_train_pred)"
   ]
  },
  {
   "cell_type": "markdown",
   "id": "bd961716",
   "metadata": {},
   "source": [
    "Вычисление ошибки на тестовой выборке:"
   ]
  },
  {
   "cell_type": "code",
   "execution_count": 25,
   "id": "1bacdf55",
   "metadata": {},
   "outputs": [
    {
     "data": {
      "text/plain": [
       "0.13725490196078433"
      ]
     },
     "execution_count": 25,
     "metadata": {},
     "output_type": "execute_result"
    }
   ],
   "source": [
    "np.mean(y_test != y_test_pred)"
   ]
  },
  {
   "cell_type": "code",
   "execution_count": 26,
   "id": "d21d1bcc",
   "metadata": {},
   "outputs": [
    {
     "data": {
      "image/png": "[encoded data removed]",
      "text/plain": [
       "<Figure size 432x288 with 2 Axes>"
      ]
     },
     "metadata": {
      "needs_background": "light"
     },
     "output_type": "display_data"
    }
   ],
   "source": [
    "from sklearn.metrics import plot_confusion_matrix\n",
    "plot_confusion_matrix(model, X_test, y_test, cmap = plt.cm.Blues)\n",
    "pass"
   ]
  },
  {
   "cell_type": "markdown",
   "id": "0c4fc74f",
   "metadata": {},
   "source": [
    "100 пациентов из тестовой выборки предположительно не имели сердечных заболеваний и дествительно их не имели; 120 пациентов из тестовой выборки предположительно имели сердечные заболевания и действительно их имели; 16 пациентов из тестовой выборки предположительно имели сердечные заболевания, но на самом деле таковых не имели; 19 пациентов предположительно не имели сердечных заболеваний, но на самом деле они были."
   ]
  },
  {
   "cell_type": "markdown",
   "id": "38ad7bde",
   "metadata": {},
   "source": [
    "# 9. Обучение нейронной сети"
   ]
  },
  {
   "cell_type": "code",
   "execution_count": 28,
   "id": "c479fcbc",
   "metadata": {},
   "outputs": [],
   "source": [
    "from sklearn.neural_network import MLPClassifier \n",
    "model = MLPClassifier(hidden_layer_sizes = (30, ), random_state = 42, max_iter = 2000)\n",
    "model.fit (X_train, y_train)\n",
    "y_train_pred = model.predict(X_train)\n",
    "y_test_pred = model.predict(X_test)"
   ]
  },
  {
   "cell_type": "markdown",
   "id": "1da5fcce",
   "metadata": {},
   "source": [
    "Вычисление ошибки на тренировочной выборке:"
   ]
  },
  {
   "cell_type": "code",
   "execution_count": 29,
   "id": "39dbb806",
   "metadata": {},
   "outputs": [
    {
     "data": {
      "text/plain": [
       "0.02225130890052356"
      ]
     },
     "execution_count": 29,
     "metadata": {},
     "output_type": "execute_result"
    }
   ],
   "source": [
    "np.mean(y_train != y_train_pred)"
   ]
  },
  {
   "cell_type": "markdown",
   "id": "6429bd44",
   "metadata": {},
   "source": [
    "Вычисление ошибки на тестовой выборке: "
   ]
  },
  {
   "cell_type": "code",
   "execution_count": 31,
   "id": "85b1d72c",
   "metadata": {},
   "outputs": [
    {
     "data": {
      "text/plain": [
       "0.17254901960784313"
      ]
     },
     "execution_count": 31,
     "metadata": {},
     "output_type": "execute_result"
    }
   ],
   "source": [
    "np.mean(y_test != y_test_pred)"
   ]
  },
  {
   "cell_type": "markdown",
   "id": "95b80839",
   "metadata": {},
   "source": [
    "Наблюдается переобучение - ошибка на тестовой выборке в разы больше ошибки на тренировочной\n",
    "\n",
    "Построим графики зависимости ошибки от параметра регуляризации alpha:\n"
   ]
  },
  {
   "cell_type": "code",
   "execution_count": 95,
   "id": "26ca0ce5",
   "metadata": {},
   "outputs": [],
   "source": [
    "alpha_arr = np.logspace(-4, 5, 10)\n",
    "test_err = []\n",
    "train_err = []\n",
    "for alpha in alpha_arr:\n",
    "    mlp_model = MLPClassifier(hidden_layer_sizes = (30, ), random_state = 42, alpha = alpha, max_iter = 2000)\n",
    "    mlp_model.fit (X_train, y_train)\n",
    "    y_train_pred = mlp_model.predict(X_train)\n",
    "    y_test_pred = mlp_model.predict(X_test)\n",
    "    train_err.append(np.mean(y_train != y_train_pred))\n",
    "    test_err.append(np.mean(y_test != y_test_pred))"
   ]
  },
  {
   "cell_type": "code",
   "execution_count": 45,
   "id": "1beadabc",
   "metadata": {
    "scrolled": false
   },
   "outputs": [
    {
     "data": {
      "image/png": "[encoded data removed]",
      "text/plain": [
       "<Figure size 432x288 with 1 Axes>"
      ]
     },
     "metadata": {
      "needs_background": "light"
     },
     "output_type": "display_data"
    }
   ],
   "source": [
    "plt.semilogx(alpha_arr, train_err, 'r-o',label = 'train')\n",
    "plt.semilogx(alpha_arr, test_err, 'b-o',label = 'test')\n",
    "plt.xlim ([np.max(alpha_arr), np.min(alpha_arr)])\n",
    "plt.title('Error(alpha)')\n",
    "plt.xlabel('alpha')\n",
    "plt.ylabel('error')\n",
    "plt.legend()\n",
    "pass"
   ]
  },
  {
   "cell_type": "markdown",
   "id": "26910d0c",
   "metadata": {},
   "source": [
    "Вычислим минимально возможную ошибку:"
   ]
  },
  {
   "cell_type": "code",
   "execution_count": 99,
   "id": "aa088b26",
   "metadata": {},
   "outputs": [
    {
     "data": {
      "text/plain": [
       "0.12941176470588237"
      ]
     },
     "execution_count": 99,
     "metadata": {},
     "output_type": "execute_result"
    }
   ],
   "source": [
    "min_test_err = np.min(test_err)\n",
    "min_test_err"
   ]
  },
  {
   "cell_type": "markdown",
   "id": "62c1b170",
   "metadata": {},
   "source": [
    "Вычислим alpha для минимальной ошибки на тестовой выборке:"
   ]
  },
  {
   "cell_type": "code",
   "execution_count": 101,
   "id": "28aae4d5",
   "metadata": {},
   "outputs": [
    {
     "data": {
      "text/plain": [
       "array([10.])"
      ]
     },
     "execution_count": 101,
     "metadata": {},
     "output_type": "execute_result"
    }
   ],
   "source": [
    "alpha_opt = []\n",
    "alpha_opt = alpha_arr[test_err == min_test_err]\n",
    "alpha_opt"
   ]
  },
  {
   "cell_type": "markdown",
   "id": "2125be5a",
   "metadata": {},
   "source": [
    "Рассмотрим график зависимости ошибки от числа нейронов при таком alpha:"
   ]
  },
  {
   "cell_type": "code",
   "execution_count": 102,
   "id": "8692238e",
   "metadata": {},
   "outputs": [],
   "source": [
    "test_err = []\n",
    "train_err = []\n",
    "neiro_arr = list(range(10, 400, 10))\n",
    "for neiro in neiro_arr:\n",
    "    mlp_model = MLPClassifier(hidden_layer_sizes = (neiro, ), random_state = 42, alpha = 10, max_iter = 2000)\n",
    "    mlp_model.fit (X_train, y_train)\n",
    "    y_train_pred = mlp_model.predict(X_train)\n",
    "    y_test_pred = mlp_model.predict(X_test)\n",
    "    train_err.append(np.mean(y_train != y_train_pred))\n",
    "    test_err.append(np.mean(y_test != y_test_pred))"
   ]
  },
  {
   "cell_type": "code",
   "execution_count": 103,
   "id": "8833c017",
   "metadata": {},
   "outputs": [
    {
     "data": {
      "image/png": "[encoded data removed]",
      "text/plain": [
       "<Figure size 432x288 with 1 Axes>"
      ]
     },
     "metadata": {
      "needs_background": "light"
     },
     "output_type": "display_data"
    }
   ],
   "source": [
    "plt.semilogx(neiro_arr, train_err, 'r-o',label = 'train')\n",
    "plt.semilogx(neiro_arr, test_err, 'b-o',label = 'test')\n",
    "plt.title('Error(neiro)')\n",
    "plt.xlabel('neiro')\n",
    "plt.ylabel('error')\n",
    "plt.legend()\n",
    "pass"
   ]
  },
  {
   "cell_type": "markdown",
   "id": "9a6a3a44",
   "metadata": {},
   "source": [
    "Вычислим ошибки на тестовой и тренировочной с учетом измения параметров:"
   ]
  },
  {
   "cell_type": "code",
   "execution_count": 104,
   "id": "837055b5",
   "metadata": {},
   "outputs": [
    {
     "data": {
      "text/plain": [
       "(0.14659685863874344, 0.12941176470588237)"
      ]
     },
     "execution_count": 104,
     "metadata": {},
     "output_type": "execute_result"
    }
   ],
   "source": [
    "from sklearn.neural_network import MLPClassifier \n",
    "model = MLPClassifier(hidden_layer_sizes = (30, ), random_state = 42, alpha = 10, max_iter = 2000)\n",
    "model.fit (X_train, y_train)\n",
    "y_train_pred = model.predict(X_train)\n",
    "y_test_pred = model.predict(X_test)\n",
    "np.mean(y_train != y_train_pred), np.mean(y_test != y_test_pred)"
   ]
  },
  {
   "cell_type": "code",
   "execution_count": 105,
   "id": "873ae3b0",
   "metadata": {},
   "outputs": [
    {
     "data": {
      "image/png": "[encoded data removed]",
      "text/plain": [
       "<Figure size 432x288 with 2 Axes>"
      ]
     },
     "metadata": {
      "needs_background": "light"
     },
     "output_type": "display_data"
    }
   ],
   "source": [
    "from sklearn.metrics import plot_confusion_matrix\n",
    "plot_confusion_matrix(model, X_test, y_test, cmap = plt.cm.Blues)\n",
    "pass"
   ]
  },
  {
   "cell_type": "markdown",
   "id": "8cca71d5",
   "metadata": {},
   "source": [
    "99 пациентов из тестовой выборки предположительно не имели сердечных заболеваний и дествительно их не имели; 123 пациентов из тестовой выборки предположительно имели сердечные заболевания и действительно их имели; 17 пациентов из тестовой выборки предположительно имели сердечные заболевания, но на самом деле таковых не имели; 16 пациентов предположительно не имели сердечных заболеваний, но на самом деле они были."
   ]
  },
  {
   "cell_type": "code",
   "execution_count": null,
   "id": "a03b3f05",
   "metadata": {},
   "outputs": [],
   "source": []
  }
 ],
 "metadata": {
  "kernelspec": {
   "display_name": "Python 3 (ipykernel)",
   "language": "python",
   "name": "python3"
  },
  "language_info": {
   "codemirror_mode": {
    "name": "ipython",
    "version": 3
   },
   "file_extension": ".py",
   "mimetype": "text/x-python",
   "name": "python",
   "nbconvert_exporter": "python",
   "pygments_lexer": "ipython3",
   "version": "3.9.7"
  }
 },
 "nbformat": 4,
 "nbformat_minor": 5
}
